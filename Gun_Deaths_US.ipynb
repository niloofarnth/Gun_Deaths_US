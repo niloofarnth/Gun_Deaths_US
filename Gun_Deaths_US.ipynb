{
 "cells": [
  {
   "cell_type": "code",
   "execution_count": 2,
   "metadata": {},
   "outputs": [],
   "source": [
    "import csv\n",
    "import datetime"
   ]
  },
  {
   "cell_type": "markdown",
   "metadata": {},
   "source": [
    "###### function to read the csv files and make lists from them"
   ]
  },
  {
   "cell_type": "code",
   "execution_count": 3,
   "metadata": {},
   "outputs": [],
   "source": [
    "def csv_reader(file_name):\n",
    "    with open(file_name, \"r\") as file:\n",
    "        data = csv.reader(file)\n",
    "        data = list(data)\n",
    "    return data"
   ]
  },
  {
   "cell_type": "markdown",
   "metadata": {},
   "source": [
    "###### the main lists "
   ]
  },
  {
   "cell_type": "code",
   "execution_count": 4,
   "metadata": {},
   "outputs": [],
   "source": [
    "data = csv_reader('guns.csv')\n",
    "census = csv_reader('census.csv')"
   ]
  },
  {
   "cell_type": "markdown",
   "metadata": {},
   "source": [
    "###### extract the header from the main data"
   ]
  },
  {
   "cell_type": "code",
   "execution_count": 5,
   "metadata": {},
   "outputs": [],
   "source": [
    "headers = data[0]\n",
    "data = data[1:]"
   ]
  },
  {
   "cell_type": "code",
   "execution_count": 6,
   "metadata": {},
   "outputs": [
    {
     "name": "stdout",
     "output_type": "stream",
     "text": [
      "['', 'year', 'month', 'intent', 'police', 'sex', 'age', 'race', 'hispanic', 'place', 'education']\n"
     ]
    }
   ],
   "source": [
    "print(headers)"
   ]
  },
  {
   "cell_type": "markdown",
   "metadata": {},
   "source": [
    "###### headers explanation:\n",
    "* '' -- this is an identifier column, which contains the row number. It's common in CSV files to include a unique identifier for each row, but we can ignore it in this analysis.\n",
    "* year -- the year in which the fatality occurred.\n",
    "* month -- the month in which the fatality occurred.\n",
    "* intent -- the intent of the perpetrator of the crime. This can be Suicide, Accidental, NA, Homicide, or Undetermined.\n",
    "* police -- whether a police officer was involved with the shooting. Either 0 (false) or 1 (true).\n",
    "* sex -- the gender of the victim. Either M or F.\n",
    "* age -- the age of the victim.\n",
    "* race -- the race of the victim. \n",
    "  - Either Asian/Pacific Islander, Native American/Native Alaskan, Black, Hispanic, or White.\n",
    "* hispanic -- a code indicating the Hispanic origin of the victim.\n",
    "* place -- where the shooting occurred. Has several categories, which you're encouraged to explore on your own\n",
    "* education -- educational status of the victim. Can be one of the following:\n",
    "  1. -- Less than High School\n",
    "  2. -- Graduated from High School or equivalent\n",
    "  3. -- Some College\n",
    "  4. -- At least graduated from College\n",
    "  5. -- Not available\n"
   ]
  },
  {
   "cell_type": "markdown",
   "metadata": {},
   "source": [
    "###### get the datetime format from the provided year and month columns"
   ]
  },
  {
   "cell_type": "code",
   "execution_count": 7,
   "metadata": {},
   "outputs": [],
   "source": [
    "dates = []\n",
    "for row in data:\n",
    "    date = datetime.datetime(year = int(row[1]), month= int(row[2]), day = 1)\n",
    "    dates.append(date)\n",
    "#print (dates[0])"
   ]
  },
  {
   "cell_type": "markdown",
   "metadata": {},
   "source": [
    "###### make the date_counts dict to count the number of shootings in each month in each year "
   ]
  },
  {
   "cell_type": "code",
   "execution_count": 8,
   "metadata": {},
   "outputs": [],
   "source": [
    "date_counts = {}\n",
    "for date in dates:\n",
    "    if date.strftime('%Y,%m') in date_counts:\n",
    "        date_counts[date.strftime('%Y,%m')] += 1\n",
    "    else:\n",
    "        date_counts[date.strftime('%Y,%m')] = 1\n"
   ]
  },
  {
   "cell_type": "markdown",
   "metadata": {},
   "source": [
    "# Number of shootings in US for each month from 2012 to 2014"
   ]
  },
  {
   "cell_type": "code",
   "execution_count": 9,
   "metadata": {},
   "outputs": [
    {
     "name": "stdout",
     "output_type": "stream",
     "text": [
      "{'2012,01': 2758, '2012,02': 2357, '2012,03': 2743, '2012,04': 2795, '2012,05': 2999, '2012,06': 2826, '2012,07': 3026, '2012,08': 2954, '2012,09': 2852, '2012,10': 2733, '2012,11': 2729, '2012,12': 2791, '2013,01': 2864, '2013,02': 2375, '2013,03': 2862, '2013,04': 2798, '2013,05': 2806, '2013,06': 2920, '2013,07': 3079, '2013,08': 2859, '2013,09': 2742, '2013,10': 2808, '2013,11': 2758, '2013,12': 2765, '2014,01': 2651, '2014,02': 2361, '2014,03': 2684, '2014,04': 2862, '2014,05': 2864, '2014,06': 2931, '2014,07': 2884, '2014,08': 2970, '2014,09': 2914, '2014,10': 2865, '2014,11': 2756, '2014,12': 2857}\n"
     ]
    }
   ],
   "source": [
    "print (date_counts)"
   ]
  },
  {
   "cell_type": "markdown",
   "metadata": {},
   "source": [
    "###### make the sex_counts dict to count the number of shootings for each sex "
   ]
  },
  {
   "cell_type": "code",
   "execution_count": 10,
   "metadata": {},
   "outputs": [],
   "source": [
    "sex_counts = {}\n",
    "for row in data:\n",
    "    if row[5] in sex_counts:\n",
    "        sex_counts[row[5]] += 1\n",
    "    else:\n",
    "        sex_counts[row[5]] = 1"
   ]
  },
  {
   "cell_type": "markdown",
   "metadata": {},
   "source": [
    "# Number of shootings in US for each sex from 2012 to 2014"
   ]
  },
  {
   "cell_type": "code",
   "execution_count": 11,
   "metadata": {},
   "outputs": [
    {
     "name": "stdout",
     "output_type": "stream",
     "text": [
      "{'M': 86349, 'F': 14449}\n"
     ]
    }
   ],
   "source": [
    "print(sex_counts)"
   ]
  },
  {
   "cell_type": "markdown",
   "metadata": {},
   "source": [
    "###### make the race_counts dict to count the number of shootings for each race "
   ]
  },
  {
   "cell_type": "code",
   "execution_count": 12,
   "metadata": {},
   "outputs": [],
   "source": [
    "race_counts = {}\n",
    "for row in data:\n",
    "    if row[7] in race_counts:\n",
    "        race_counts[row[7]] += 1\n",
    "    else:\n",
    "        race_counts[row[7]] = 1"
   ]
  },
  {
   "cell_type": "markdown",
   "metadata": {},
   "source": [
    "###### make the census_dict to have the total number of each race in US\n",
    "###### make the mapping dict from census file based on the names in data file\n"
   ]
  },
  {
   "cell_type": "code",
   "execution_count": 13,
   "metadata": {},
   "outputs": [
    {
     "name": "stdout",
     "output_type": "stream",
     "text": [
      "{'Id': '0100000US', 'Year': 'April 1, 2010 Census', 'Sex': 'Both Sexes', 'Hispanic Origin': 'Total', 'Id2': '', 'Geography': 'United States', 'Total': '308745538', 'Race Alone - White': '197318956', 'Race Alone - Hispanic': '44618105', 'Race Alone - Black or African American': '40250635', 'Race Alone - American Indian and Alaska Native': '3739506', 'Race Alone - Asian': '15159516', 'Race Alone - Native Hawaiian and Other Pacific Islander': '674625', 'Two or More Races': '6984195'}\n"
     ]
    }
   ],
   "source": [
    "census_dict = {}\n",
    "for idx,item in enumerate(census[0]):\n",
    "    census_dict[item]= census[1][idx]\n",
    "print(census_dict)"
   ]
  },
  {
   "cell_type": "code",
   "execution_count": 14,
   "metadata": {},
   "outputs": [],
   "source": [
    "mapping = {'Asian/Pacific Islander':(int(census_dict['Race Alone - Asian'])+int(census_dict['Race Alone - Native Hawaiian and Other Pacific Islander'])),'Black': census_dict['Race Alone - Black or African American'],'Native American/Native Alaskan': census_dict['Race Alone - American Indian and Alaska Native'],'Hispanic':census_dict['Race Alone - Hispanic'], 'White':census_dict['Race Alone - White']}"
   ]
  },
  {
   "cell_type": "markdown",
   "metadata": {},
   "source": [
    "###### make the race_per_hundredk dict to count the number of shootings for each race per 10000 poeple\n"
   ]
  },
  {
   "cell_type": "code",
   "execution_count": 15,
   "metadata": {},
   "outputs": [],
   "source": [
    "race_per_hundredk = {}\n",
    "for key in race_counts.keys():\n",
    "    race_per_hundredk[key] = (int(race_counts[key])/int(mapping[key]))*100000\n"
   ]
  },
  {
   "cell_type": "markdown",
   "metadata": {},
   "source": [
    "# Number of shootings in US for each race per 10000 people from 2012 to 2014"
   ]
  },
  {
   "cell_type": "code",
   "execution_count": 16,
   "metadata": {},
   "outputs": [
    {
     "name": "stdout",
     "output_type": "stream",
     "text": [
      "{'Asian/Pacific Islander': 8.374309664161762, 'White': 33.56849303419181, 'Native American/Native Alaskan': 24.521955573811088, 'Black': 57.8773477735196, 'Hispanic': 20.220491210910907}\n"
     ]
    }
   ],
   "source": [
    "print(race_per_hundredk)"
   ]
  },
  {
   "cell_type": "markdown",
   "metadata": {},
   "source": [
    "###### make the education_counts and education_mapping dict to count the number of shootings based on education"
   ]
  },
  {
   "cell_type": "code",
   "execution_count": 26,
   "metadata": {},
   "outputs": [],
   "source": [
    "education_counts = {}\n",
    "for row in data:\n",
    "    if row[10] in education_counts:\n",
    "        education_counts[row[10]] += 1\n",
    "    else:\n",
    "        education_counts[row[10]] = 1\n",
    "eduaction_mapping = {'Less than High School':education_counts['1'], 'Graduated from High School or equivalent':education_counts['2'],\\\n",
    "'Some College':education_counts['3'], 'At least graduated from College':education_counts['4'],\\\n",
    "'Not available':(education_counts['5']+education_counts['NA'])}"
   ]
  },
  {
   "cell_type": "markdown",
   "metadata": {},
   "source": [
    "# Number of shootings in US based on education from 2012 to 2014"
   ]
  },
  {
   "cell_type": "code",
   "execution_count": 30,
   "metadata": {
    "scrolled": true
   },
   "outputs": [
    {
     "name": "stdout",
     "output_type": "stream",
     "text": [
      "{'Less than High School': 21823, 'Graduated from High School or equivalent': 42927, 'Some College': 21680, 'At least graduated from College': 12946, 'Not available': 1422}\n"
     ]
    }
   ],
   "source": [
    "print (eduaction_mapping)"
   ]
  }
 ],
 "metadata": {
  "kernelspec": {
   "display_name": "Python 3",
   "language": "python",
   "name": "python3"
  },
  "language_info": {
   "codemirror_mode": {
    "name": "ipython",
    "version": 3
   },
   "file_extension": ".py",
   "mimetype": "text/x-python",
   "name": "python",
   "nbconvert_exporter": "python",
   "pygments_lexer": "ipython3",
   "version": "3.6.4"
  }
 },
 "nbformat": 4,
 "nbformat_minor": 2
}
