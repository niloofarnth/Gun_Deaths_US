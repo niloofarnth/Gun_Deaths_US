{
 "cells": [
  {
   "cell_type": "code",
   "execution_count": 2,
   "metadata": {},
   "outputs": [],
   "source": [
    "import csv\n",
    "import datetime"
   ]
  },
  {
   "cell_type": "markdown",
   "metadata": {},
   "source": [
    "###### function to read the csv files and make lists from them"
   ]
  },
  {
   "cell_type": "code",
   "execution_count": 11,
   "metadata": {},
   "outputs": [],
   "source": [
    "def csv_reader(file_name):\n",
    "    with open(file_name, \"r\") as file:\n",
    "        data = csv.reader(file)\n",
    "        data = list(data)\n",
    "    return data"
   ]
  },
  {
   "cell_type": "markdown",
   "metadata": {},
   "source": [
    "###### the main lists "
   ]
  },
  {
   "cell_type": "code",
   "execution_count": 12,
   "metadata": {},
   "outputs": [],
   "source": [
    "data = csv_reader('guns.csv')\n",
    "census = csv_reader('census.csv')"
   ]
  },
  {
   "cell_type": "markdown",
   "metadata": {},
   "source": [
    "###### extract the header from the main data"
   ]
  },
  {
   "cell_type": "code",
   "execution_count": 13,
   "metadata": {},
   "outputs": [],
   "source": [
    "headers = data[0]\n",
    "data = data[1:]"
   ]
  },
  {
   "cell_type": "code",
   "execution_count": 15,
   "metadata": {},
   "outputs": [
    {
     "name": "stdout",
     "output_type": "stream",
     "text": [
      "['', 'year', 'month', 'intent', 'police', 'sex', 'age', 'race', 'hispanic', 'place', 'education']\n"
     ]
    }
   ],
   "source": [
    "print(headers)"
   ]
  },
  {
   "cell_type": "markdown",
   "metadata": {},
   "source": [
    "###### get the datetime format from the provided year and month columns"
   ]
  },
  {
   "cell_type": "code",
   "execution_count": 18,
   "metadata": {},
   "outputs": [],
   "source": [
    "dates = []\n",
    "for row in data:\n",
    "    date = datetime.datetime(year = int(row[1]), month= int(row[2]), day = 1)\n",
    "    dates.append(date)\n",
    "#print (dates[0])"
   ]
  },
  {
   "cell_type": "markdown",
   "metadata": {},
   "source": [
    "###### make the date_counts dict to count the number of shootings in each month in each year "
   ]
  },
  {
   "cell_type": "code",
   "execution_count": 28,
   "metadata": {},
   "outputs": [],
   "source": [
    "date_counts = {}\n",
    "for date in dates:\n",
    "    if date.strftime('%Y,%m') in date_counts:\n",
    "        date_counts[date.strftime('%Y,%m')] += 1\n",
    "    else:\n",
    "        date_counts[date.strftime('%Y,%m')] = 1\n"
   ]
  },
  {
   "cell_type": "markdown",
   "metadata": {},
   "source": [
    "# Number of shootings in US for each month from 2012 to 2014"
   ]
  },
  {
   "cell_type": "code",
   "execution_count": 30,
   "metadata": {},
   "outputs": [
    {
     "name": "stdout",
     "output_type": "stream",
     "text": [
      "{'2012,01': 2758, '2012,02': 2357, '2012,03': 2743, '2012,04': 2795, '2012,05': 2999, '2012,06': 2826, '2012,07': 3026, '2012,08': 2954, '2012,09': 2852, '2012,10': 2733, '2012,11': 2729, '2012,12': 2791, '2013,01': 2864, '2013,02': 2375, '2013,03': 2862, '2013,04': 2798, '2013,05': 2806, '2013,06': 2920, '2013,07': 3079, '2013,08': 2859, '2013,09': 2742, '2013,10': 2808, '2013,11': 2758, '2013,12': 2765, '2014,01': 2651, '2014,02': 2361, '2014,03': 2684, '2014,04': 2862, '2014,05': 2864, '2014,06': 2931, '2014,07': 2884, '2014,08': 2970, '2014,09': 2914, '2014,10': 2865, '2014,11': 2756, '2014,12': 2857}\n"
     ]
    }
   ],
   "source": [
    "print (date_counts)"
   ]
  },
  {
   "cell_type": "code",
   "execution_count": 32,
   "metadata": {},
   "outputs": [],
   "source": [
    "###### make the sex_counts dict to count the number of shootings for each sex "
   ]
  },
  {
   "cell_type": "code",
   "execution_count": 33,
   "metadata": {},
   "outputs": [],
   "source": [
    "sex_counts = {}\n",
    "for row in data:\n",
    "    if row[5] in sex_counts:\n",
    "        sex_counts[row[5]] += 1\n",
    "    else:\n",
    "        sex_counts[row[5]] = 1"
   ]
  },
  {
   "cell_type": "markdown",
   "metadata": {},
   "source": [
    "# Number of shootings in US for each sex from 2012 to 2014"
   ]
  },
  {
   "cell_type": "code",
   "execution_count": 34,
   "metadata": {},
   "outputs": [
    {
     "name": "stdout",
     "output_type": "stream",
     "text": [
      "{'M': 86349, 'F': 14449}\n"
     ]
    }
   ],
   "source": [
    "print(sex_counts)"
   ]
  },
  {
   "cell_type": "code",
   "execution_count": null,
   "metadata": {},
   "outputs": [],
   "source": []
  }
 ],
 "metadata": {
  "kernelspec": {
   "display_name": "Python 3",
   "language": "python",
   "name": "python3"
  },
  "language_info": {
   "codemirror_mode": {
    "name": "ipython",
    "version": 3
   },
   "file_extension": ".py",
   "mimetype": "text/x-python",
   "name": "python",
   "nbconvert_exporter": "python",
   "pygments_lexer": "ipython3",
   "version": "3.6.4"
  }
 },
 "nbformat": 4,
 "nbformat_minor": 2
}
